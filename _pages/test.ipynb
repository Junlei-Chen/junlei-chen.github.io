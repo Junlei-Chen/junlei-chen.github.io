{
 "cells": [
  {
   "cell_type": "code",
   "execution_count": 1,
   "metadata": {},
   "outputs": [],
   "source": [
    "import numpy as np"
   ]
  },
  {
   "cell_type": "code",
   "execution_count": 2,
   "metadata": {},
   "outputs": [],
   "source": [
    "a = np.ones([2, 3, 4])"
   ]
  },
  {
   "cell_type": "code",
   "execution_count": 3,
   "metadata": {},
   "outputs": [
    {
     "name": "stdout",
     "output_type": "stream",
     "text": [
      "[[1. 1. 1.]\n",
      " [1. 1. 1.]]\n"
     ]
    }
   ],
   "source": [
    "print(a[..., 0])"
   ]
  },
  {
   "cell_type": "code",
   "execution_count": 4,
   "metadata": {},
   "outputs": [
    {
     "name": "stdout",
     "output_type": "stream",
     "text": [
      "[[1. 1. 1. 1.]\n",
      " [1. 1. 1. 1.]]\n"
     ]
    }
   ],
   "source": [
    "print(a[:, 0])"
   ]
  },
  {
   "cell_type": "code",
   "execution_count": 9,
   "metadata": {},
   "outputs": [
    {
     "name": "stdout",
     "output_type": "stream",
     "text": [
      "[[1. 1. 1.]\n",
      " [1. 1. 1.]]\n"
     ]
    }
   ],
   "source": [
    "print(a[..., 3])"
   ]
  },
  {
   "cell_type": "code",
   "execution_count": 10,
   "metadata": {},
   "outputs": [],
   "source": [
    "a = np.ones([2, 3, 4, 2])"
   ]
  },
  {
   "cell_type": "code",
   "execution_count": 13,
   "metadata": {},
   "outputs": [
    {
     "name": "stdout",
     "output_type": "stream",
     "text": [
      "[[[1. 1. 1. 1.]\n",
      "  [1. 1. 1. 1.]\n",
      "  [1. 1. 1. 1.]]\n",
      "\n",
      " [[1. 1. 1. 1.]\n",
      "  [1. 1. 1. 1.]\n",
      "  [1. 1. 1. 1.]]]\n"
     ]
    }
   ],
   "source": [
    "print(a[..., 0])"
   ]
  },
  {
   "cell_type": "code",
   "execution_count": 14,
   "metadata": {},
   "outputs": [],
   "source": [
    "a = np.ones([2, 3])"
   ]
  },
  {
   "cell_type": "code",
   "execution_count": 15,
   "metadata": {},
   "outputs": [
    {
     "data": {
      "text/plain": [
       "array([[1., 1., 1.],\n",
       "       [1., 1., 1.]])"
      ]
     },
     "execution_count": 15,
     "metadata": {},
     "output_type": "execute_result"
    }
   ],
   "source": [
    "a"
   ]
  },
  {
   "cell_type": "code",
   "execution_count": 19,
   "metadata": {},
   "outputs": [
    {
     "data": {
      "text/plain": [
       "array([1., 1.])"
      ]
     },
     "execution_count": 19,
     "metadata": {},
     "output_type": "execute_result"
    }
   ],
   "source": [
    "a[..., 2]"
   ]
  },
  {
   "cell_type": "code",
   "execution_count": 27,
   "metadata": {},
   "outputs": [],
   "source": [
    "a = np.zeros([4, 3, 2])\n",
    "for i in range(0, 4):\n",
    "    for j in range(0, 3):\n",
    "        for k in range (0, 2):\n",
    "            a[i, j, k] = (i+1)*(j+1)*(k+1)\n"
   ]
  },
  {
   "cell_type": "code",
   "execution_count": 21,
   "metadata": {},
   "outputs": [
    {
     "data": {
      "text/plain": [
       "array([[0., 0.],\n",
       "       [0., 1.],\n",
       "       [0., 2.]])"
      ]
     },
     "execution_count": 21,
     "metadata": {},
     "output_type": "execute_result"
    }
   ],
   "source": [
    "a"
   ]
  },
  {
   "cell_type": "code",
   "execution_count": 23,
   "metadata": {},
   "outputs": [
    {
     "data": {
      "text/plain": [
       "array([[1., 2.],\n",
       "       [2., 4.],\n",
       "       [3., 6.]])"
      ]
     },
     "execution_count": 23,
     "metadata": {},
     "output_type": "execute_result"
    }
   ],
   "source": [
    "a"
   ]
  },
  {
   "cell_type": "code",
   "execution_count": 24,
   "metadata": {},
   "outputs": [
    {
     "data": {
      "text/plain": [
       "array([[1., 2.],\n",
       "       [2., 4.],\n",
       "       [3., 6.]])"
      ]
     },
     "execution_count": 24,
     "metadata": {},
     "output_type": "execute_result"
    }
   ],
   "source": [
    "a[...]"
   ]
  },
  {
   "cell_type": "code",
   "execution_count": 25,
   "metadata": {},
   "outputs": [
    {
     "data": {
      "text/plain": [
       "array([1., 2., 3.])"
      ]
     },
     "execution_count": 25,
     "metadata": {},
     "output_type": "execute_result"
    }
   ],
   "source": [
    "a[..., 0]"
   ]
  },
  {
   "cell_type": "code",
   "execution_count": 26,
   "metadata": {},
   "outputs": [
    {
     "data": {
      "text/plain": [
       "array([2., 4., 6.])"
      ]
     },
     "execution_count": 26,
     "metadata": {},
     "output_type": "execute_result"
    }
   ],
   "source": [
    "a[..., 1]"
   ]
  },
  {
   "cell_type": "code",
   "execution_count": 28,
   "metadata": {},
   "outputs": [
    {
     "data": {
      "text/plain": [
       "array([[[ 1.,  2.],\n",
       "        [ 2.,  4.],\n",
       "        [ 3.,  6.]],\n",
       "\n",
       "       [[ 2.,  4.],\n",
       "        [ 4.,  8.],\n",
       "        [ 6., 12.]],\n",
       "\n",
       "       [[ 3.,  6.],\n",
       "        [ 6., 12.],\n",
       "        [ 9., 18.]],\n",
       "\n",
       "       [[ 4.,  8.],\n",
       "        [ 8., 16.],\n",
       "        [12., 24.]]])"
      ]
     },
     "execution_count": 28,
     "metadata": {},
     "output_type": "execute_result"
    }
   ],
   "source": [
    "a"
   ]
  },
  {
   "cell_type": "code",
   "execution_count": null,
   "metadata": {},
   "outputs": [
    {
     "data": {
      "text/plain": [
       "array([[ 1.,  2.,  3.],\n",
       "       [ 2.,  4.,  6.],\n",
       "       [ 3.,  6.,  9.],\n",
       "       [ 4.,  8., 12.]])"
      ]
     },
     "execution_count": 29,
     "metadata": {},
     "output_type": "execute_result"
    }
   ],
   "source": [
    "\n",
    "\n",
    "\n",
    "\n",
    "a[..., 0]"
   ]
  },
  {
   "cell_type": "code",
   "execution_count": 30,
   "metadata": {},
   "outputs": [
    {
     "ename": "IndexError",
     "evalue": "an index can only have a single ellipsis ('...')",
     "output_type": "error",
     "traceback": [
      "\u001b[1;31m---------------------------------------------------------------------------\u001b[0m",
      "\u001b[1;31mIndexError\u001b[0m                                Traceback (most recent call last)",
      "Cell \u001b[1;32mIn[30], line 1\u001b[0m\n\u001b[1;32m----> 1\u001b[0m \u001b[43ma\u001b[49m\u001b[43m[\u001b[49m\u001b[38;5;241;43m.\u001b[39;49m\u001b[38;5;241;43m.\u001b[39;49m\u001b[38;5;241;43m.\u001b[39;49m\u001b[43m,\u001b[49m\u001b[43m \u001b[49m\u001b[38;5;241;43m0\u001b[39;49m\u001b[43m,\u001b[49m\u001b[43m \u001b[49m\u001b[38;5;241;43m.\u001b[39;49m\u001b[38;5;241;43m.\u001b[39;49m\u001b[38;5;241;43m.\u001b[39;49m\u001b[43m]\u001b[49m\n",
      "\u001b[1;31mIndexError\u001b[0m: an index can only have a single ellipsis ('...')"
     ]
    }
   ],
   "source": [
    "a[..., 0, ...]"
   ]
  },
  {
   "cell_type": "code",
   "execution_count": 31,
   "metadata": {},
   "outputs": [
    {
     "data": {
      "text/plain": [
       "array([[[ 1.,  2.],\n",
       "        [ 2.,  4.],\n",
       "        [ 3.,  6.]],\n",
       "\n",
       "       [[ 2.,  4.],\n",
       "        [ 4.,  8.],\n",
       "        [ 6., 12.]],\n",
       "\n",
       "       [[ 3.,  6.],\n",
       "        [ 6., 12.],\n",
       "        [ 9., 18.]],\n",
       "\n",
       "       [[ 4.,  8.],\n",
       "        [ 8., 16.],\n",
       "        [12., 24.]]])"
      ]
     },
     "execution_count": 31,
     "metadata": {},
     "output_type": "execute_result"
    }
   ],
   "source": [
    "a[...]"
   ]
  },
  {
   "cell_type": "code",
   "execution_count": null,
   "metadata": {},
   "outputs": [],
   "source": [
    "import json\n",
    "import os\n",
    "import time\n",
    "from absl import app\n",
    "from absl import flags\n",
    "from param import KSParam\n",
    "from dataset import KSInitDataSet\n",
    "from value import ValueTrainer\n",
    "from policy import KSPolicyTrainer\n",
    "from util import print_elapsedtime\n",
    "\n",
    "flags.DEFINE_string(\"config_path\", \"./configs/KS/game_nn_n50.json\",\n",
    "                    \"\"\"The path to load json file.\"\"\",\n",
    "                    short_name='c')\n",
    "flags.DEFINE_string(\"exp_name\", \"test\",\n",
    "                    \"\"\"The suffix used in model_path for save.\"\"\",\n",
    "                    short_name='n')\n",
    "FLAGS = flags.FLAGS\n",
    "\n",
    "def main(argv):\n",
    "    del argv\n",
    "    with open(FLAGS.config_path, 'r') as f:\n",
    "        config = json.load(f)\n",
    "    print(\"Solving the problem based on the config path {}\".format(FLAGS.config_path))\n",
    "    mparam = KSParam(config[\"n_agt\"], config[\"beta\"], config[\"mats_path\"])\n",
    "    # save config at the beginning for checking\n",
    "    model_path = \"../data/simul_results/KS/{}_{}_n{}_{}\".format(\n",
    "        \"game\" if config[\"policy_config\"][\"opt_type\"] == \"game\" else \"sp\",\n",
    "        config[\"dataset_config\"][\"value_sampling\"],\n",
    "        config[\"n_agt\"],\n",
    "        FLAGS.exp_name,\n",
    "    )\n",
    "    os.makedirs(model_path, exist_ok=True)\n",
    "    with open(os.path.join(model_path, \"config_beg.json\"), 'w') as f:\n",
    "        json.dump(config, f)\n",
    "\n",
    "    start_time = time.monotonic()\n",
    "\n",
    "    # initial value training\n",
    "    init_ds = KSInitDataSet(mparam, config)\n",
    "    value_config = config[\"value_config\"]\n",
    "    if config[\"init_with_bchmk\"]:\n",
    "        init_policy = init_ds.k_policy_bchmk\n",
    "        policy_type = \"pde\"\n",
    "        # TODO[juju]: change all \"pde\" to \"conventional\"\n",
    "    else:\n",
    "        init_policy = init_ds.c_policy_const_share\n",
    "        policy_type = \"nn_share\"\n",
    "    train_vds, valid_vds = init_ds.get_valuedataset(init_policy, policy_type, update_init=False)\n",
    "    vtrainers = [ValueTrainer(config) for i in range(value_config[\"num_vnet\"])]\n",
    "    for vtr in vtrainers:\n",
    "        vtr.train(train_vds, valid_vds, value_config[\"num_epoch\"], value_config[\"batch_size\"])\n",
    "\n",
    "    # iterative policy and value training\n",
    "    policy_config = config[\"policy_config\"]\n",
    "    ptrainer = KSPolicyTrainer(vtrainers, init_ds)\n",
    "    ptrainer.train(policy_config[\"num_step\"], policy_config[\"batch_size\"])\n",
    "\n",
    "    # save config and models\n",
    "    with open(os.path.join(model_path, \"config.json\"), 'w') as f:\n",
    "        json.dump(config, f)\n",
    "    for i, vtr in enumerate(vtrainers):\n",
    "        vtr.save_model(os.path.join(model_path, \"value{}.h5\".format(i)))\n",
    "    ptrainer.save_model(os.path.join(model_path, \"policy.h5\"))\n",
    "\n",
    "    end_time = time.monotonic()\n",
    "    print_elapsedtime(end_time - start_time)\n",
    "\n",
    "if __name__ == '__main__':\n",
    "    app.run(main)"
   ]
  }
 ],
 "metadata": {
  "kernelspec": {
   "display_name": "3.12.4",
   "language": "python",
   "name": "python3"
  },
  "language_info": {
   "codemirror_mode": {
    "name": "ipython",
    "version": 3
   },
   "file_extension": ".py",
   "mimetype": "text/x-python",
   "name": "python",
   "nbconvert_exporter": "python",
   "pygments_lexer": "ipython3",
   "version": "3.12.4"
  }
 },
 "nbformat": 4,
 "nbformat_minor": 2
}
